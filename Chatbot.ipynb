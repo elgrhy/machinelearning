{
  "nbformat": 4,
  "nbformat_minor": 0,
  "metadata": {
    "colab": {
      "provenance": [],
      "authorship_tag": "ABX9TyMuNg9GEhRKd1C7AIz6dTxg",
      "include_colab_link": true
    },
    "kernelspec": {
      "name": "python3",
      "display_name": "Python 3"
    },
    "language_info": {
      "name": "python"
    }
  },
  "cells": [
    {
      "cell_type": "markdown",
      "metadata": {
        "id": "view-in-github",
        "colab_type": "text"
      },
      "source": [
        "<a href=\"https://colab.research.google.com/github/elgrhy/machinelearning/blob/main/Chatbot.ipynb\" target=\"_parent\"><img src=\"https://colab.research.google.com/assets/colab-badge.svg\" alt=\"Open In Colab\"/></a>"
      ]
    },
    {
      "cell_type": "markdown",
      "source": [
        "# Install Twilio"
      ],
      "metadata": {
        "id": "_eUq2wgQvv0h"
      }
    },
    {
      "cell_type": "code",
      "source": [
        "!pip3 install twilio"
      ],
      "metadata": {
        "colab": {
          "base_uri": "https://localhost:8080/"
        },
        "id": "A4SC4wNBXsTW",
        "outputId": "aa3955a1-52ee-401b-fe0f-9ee9062b879e"
      },
      "execution_count": 18,
      "outputs": [
        {
          "output_type": "stream",
          "name": "stdout",
          "text": [
            "Looking in indexes: https://pypi.org/simple, https://us-python.pkg.dev/colab-wheels/public/simple/\n",
            "Requirement already satisfied: twilio in /usr/local/lib/python3.8/dist-packages (7.16.1)\n",
            "Requirement already satisfied: PyJWT<3.0.0,>=2.0.0 in /usr/local/lib/python3.8/dist-packages (from twilio) (2.6.0)\n",
            "Requirement already satisfied: pytz in /usr/local/lib/python3.8/dist-packages (from twilio) (2022.7)\n",
            "Requirement already satisfied: requests>=2.0.0 in /usr/local/lib/python3.8/dist-packages (from twilio) (2.25.1)\n",
            "Requirement already satisfied: idna<3,>=2.5 in /usr/local/lib/python3.8/dist-packages (from requests>=2.0.0->twilio) (2.10)\n",
            "Requirement already satisfied: chardet<5,>=3.0.2 in /usr/local/lib/python3.8/dist-packages (from requests>=2.0.0->twilio) (4.0.0)\n",
            "Requirement already satisfied: certifi>=2017.4.17 in /usr/local/lib/python3.8/dist-packages (from requests>=2.0.0->twilio) (2022.12.7)\n",
            "Requirement already satisfied: urllib3<1.27,>=1.21.1 in /usr/local/lib/python3.8/dist-packages (from requests>=2.0.0->twilio) (1.24.3)\n"
          ]
        }
      ]
    },
    {
      "cell_type": "markdown",
      "source": [
        "# Import Dependencies"
      ],
      "metadata": {
        "id": "MMV8erH9v5vE"
      }
    },
    {
      "cell_type": "code",
      "execution_count": 41,
      "metadata": {
        "id": "0PqcSKfWUt3m"
      },
      "outputs": [],
      "source": [
        "import datetime\n",
        "import csv\n",
        "from twilio.rest import Client\n",
        "from datetime import datetime, timedelta"
      ]
    },
    {
      "cell_type": "markdown",
      "source": [
        "# Twilio Account Information"
      ],
      "metadata": {
        "id": "K3oAZ2kawG85"
      }
    },
    {
      "cell_type": "code",
      "source": [
        "account_sid = 'AC5d7662cb019ed4d4abed565966d521e7'\n",
        "auth_token = '3bae9655f328af6efdaa487093823c28'\n",
        "client = Client(account_sid, auth_token)"
      ],
      "metadata": {
        "id": "FxTQhweZXrX5"
      },
      "execution_count": 42,
      "outputs": []
    },
    {
      "cell_type": "markdown",
      "source": [
        "# File Name"
      ],
      "metadata": {
        "id": "_MoSk2A7wSna"
      }
    },
    {
      "cell_type": "code",
      "source": [
        "file_name = 'appointments.csv'"
      ],
      "metadata": {
        "id": "3iwMl-faZ2VB"
      },
      "execution_count": 43,
      "outputs": []
    },
    {
      "cell_type": "markdown",
      "source": [
        "# List of Cities"
      ],
      "metadata": {
        "id": "CJCLY53bwaeK"
      }
    },
    {
      "cell_type": "code",
      "source": [
        "cities = ['Dubai', 'Sharjah', 'RAK']"
      ],
      "metadata": {
        "id": "GuZl6TruaCOB"
      },
      "execution_count": 44,
      "outputs": []
    },
    {
      "cell_type": "markdown",
      "source": [
        "# Process\n",
        "**Get customer message and phone number**\n",
        "**Check if message is about company profile change**\n",
        "**Send message to customer with list of cities**\n",
        "** Get customer's desired city**\n",
        "**Send message to customer with available time slots**\n",
        "**Get customer desired time**\n",
        "**Check the appointments.csv file and give the next available date**\n",
        "**Save appointment to CSV file**"
      ],
      "metadata": {
        "id": "wq8QeyFvwgzp"
      }
    },
    {
      "cell_type": "markdown",
      "source": [
        "**Note**\n",
        "*the below number is not registered yet in the twilio*"
      ],
      "metadata": {
        "id": "VyA8xwkHx39C"
      }
    },
    {
      "cell_type": "code",
      "source": [
        "from IPython.core.hooks import fix_error_editor\n",
        "while True:\n",
        "  message = input(\"Enter customer's message: \")\n",
        "  phone_number = (\"Enter customer's phone number: \")\n",
        "\n",
        "  if \"company profile change\" in message.lower():\n",
        "    city_list = \"\\n\".join(cities)\n",
        "    message = client.messages.create(\n",
        "                              body=f'Please select a city from the list below for your appointment:\\n{city_list}',\n",
        "                              from_='+971544077683',\n",
        "                              to='whatsapp:+201091373548'\n",
        "                          )\n",
        "\n",
        "print(message.sid)\n",
        "\n",
        "city = input(\"Enter the city you would like to schedule the appointment: \")\n",
        "message = client.messages.create(\n",
        "        body=\"Please select a time slot (10:00 AM or 12:00 PM) for your appointment\",\n",
        "        from_= 'whatsapp: +971544077683',\n",
        "        to=f'whatsapp: +201091373548')\n",
        "print(message.sid)\n",
        "\n",
        "time = input(\"Enter the time you would like to schedule the appointment (HH:MM format)\")\n",
        "\n",
        "scheduled_time = datetime.strftime(time, \"%H:%M\")\n",
        "\n",
        "with open(file_name) as scv_file:\n",
        "  reader = csv.DictReader('appointments.csv')\n",
        "  appointments = [row for row in reader if row['city'] == city and row['time'] == scheduled_time.strftime(\"%H:%M\")]\n",
        "  appointment_date = datetime.now().date()\n",
        "\n",
        "while len(appointments) > 0:\n",
        "    appointment_date += timedelta(day=1)\n",
        "    appointments = [row for row in appointments if row['date'] != appointment_date.strftime(\"%Y-%m-%d\")]\n",
        "    print(f\"Appointment scheduled for {appointment_date} at {scheduled_time} in {city}.\")\n",
        "\n",
        "with open('appointments.csv', mode='a') as csv_file:\n",
        "  fieldnames = [ 'phone_number', 'city', 'time', 'date']\n",
        "  writer = csv.DictWriter('appointments.csv', fieldnames=fieldnames)\n",
        "  writer.writeheader()\n",
        "  writer.writerow({'phone_number': phone_number,\n",
        "                   'city': city,\n",
        "                   'time': scheduled_time.strftime(\"%H:%M\"),\n",
        "                   'date': appointment_date.strftime(\"%Y-%m-%d\")})\n",
        "\n",
        "\n"
      ],
      "metadata": {
        "id": "Hvo-lS5caRGN"
      },
      "execution_count": null,
      "outputs": []
    },
    {
      "cell_type": "code",
      "source": [],
      "metadata": {
        "id": "f1oz5BR4xwz-"
      },
      "execution_count": null,
      "outputs": []
    }
  ]
}